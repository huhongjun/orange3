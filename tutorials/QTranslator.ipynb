{
 "cells": [
  {
   "cell_type": "code",
   "execution_count": 1,
   "metadata": {},
   "outputs": [],
   "source": [
    "import os\n",
    "from AnyQt.QtCore import (\n",
    "    Qt, QDir, QUrl, QSettings, QThread, pyqtSignal, QT_VERSION, QTranslator\n",
    ")\n",
    "\n",
    "locale_path = \"Orange\\\\locale\\\\zh_CN\\\\canvasmain_zh_CN.qm\"\n",
    "if os.path.exists(locale_path):\n",
    "    print('if')\n",
    "    translator = QTranslator()\n",
    "    translator.load(locale_path)\n"
   ]
  },
  {
   "cell_type": "code",
   "execution_count": null,
   "metadata": {},
   "outputs": [],
   "source": []
  }
 ],
 "metadata": {
  "kernelspec": {
   "display_name": "Python 3",
   "language": "python",
   "name": "python3"
  },
  "language_info": {
   "codemirror_mode": {
    "name": "ipython",
    "version": 3
   },
   "file_extension": ".py",
   "mimetype": "text/x-python",
   "name": "python",
   "nbconvert_exporter": "python",
   "pygments_lexer": "ipython3",
   "version": "3.6.2"
  }
 },
 "nbformat": 4,
 "nbformat_minor": 2
}
