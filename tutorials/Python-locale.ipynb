{
 "cells": [
  {
   "cell_type": "code",
   "execution_count": 1,
   "metadata": {},
   "outputs": [],
   "source": [
    "import sys\n",
    "import locale"
   ]
  },
  {
   "cell_type": "code",
   "execution_count": 2,
   "metadata": {},
   "outputs": [
    {
     "data": {
      "text/plain": [
       "'UTF-8'"
      ]
     },
     "execution_count": 2,
     "metadata": {},
     "output_type": "execute_result"
    }
   ],
   "source": [
    "locale.getdefaultlocale()\n",
    "locale.getlocale()\n",
    "sys.getdefaultencoding()\n",
    "sys.getfilesystemencoding()\n",
    "sys.stdin.encoding\n",
    "sys.stdout.encoding"
   ]
  },
  {
   "cell_type": "code",
   "execution_count": 3,
   "metadata": {},
   "outputs": [
    {
     "data": {
      "text/plain": [
       "'Chinese (Simplified)_China.936'"
      ]
     },
     "execution_count": 3,
     "metadata": {},
     "output_type": "execute_result"
    }
   ],
   "source": [
    "locale.setlocale(locale.LC_ALL, '')"
   ]
  },
  {
   "cell_type": "code",
   "execution_count": 4,
   "metadata": {},
   "outputs": [
    {
     "data": {
      "text/plain": [
       "('zh_CN', 'cp936')"
      ]
     },
     "execution_count": 4,
     "metadata": {},
     "output_type": "execute_result"
    }
   ],
   "source": [
    "locale.getdefaultlocale()"
   ]
  },
  {
   "cell_type": "code",
   "execution_count": 5,
   "metadata": {},
   "outputs": [
    {
     "data": {
      "text/plain": [
       "('Chinese (Simplified)_China', '936')"
      ]
     },
     "execution_count": 5,
     "metadata": {},
     "output_type": "execute_result"
    }
   ],
   "source": [
    "locale.getlocale()"
   ]
  },
  {
   "cell_type": "code",
   "execution_count": 6,
   "metadata": {},
   "outputs": [
    {
     "ename": "SyntaxError",
     "evalue": "Missing parentheses in call to 'print' (<ipython-input-6-f3afcd36bfc8>, line 7)",
     "output_type": "error",
     "traceback": [
      "\u001b[1;36m  File \u001b[1;32m\"<ipython-input-6-f3afcd36bfc8>\"\u001b[1;36m, line \u001b[1;32m7\u001b[0m\n\u001b[1;33m    print \"----中文版本----\"\u001b[0m\n\u001b[1;37m                       ^\u001b[0m\n\u001b[1;31mSyntaxError\u001b[0m\u001b[1;31m:\u001b[0m Missing parentheses in call to 'print'\n"
     ]
    }
   ],
   "source": [
    "import gettext\n",
    "locale_path = './locale/'\n",
    "#gettext.install('internation', locale_path) # 这条语句会将_()函数自动放到python的内置命名空间中\n",
    "zh_trans = gettext.translation('internation', locale_path, languages=['zh_CN'])\n",
    "en_trans = gettext.translation('internation', locale_path, languages=['en_US'])\n",
    " \n",
    "print \"----中文版本----\"\n",
    "zh_trans.install()\n",
    "print _(\"Hello world!\")\n",
    "print _(\"Python is a good Language.\")\n",
    " \n",
    "print \"----英文版本----\"\n",
    "en_trans.install()\n",
    "print _(\"Hello world!\")\n",
    "print _(\"Python is a good Language.\")\n"
   ]
  },
  {
   "cell_type": "code",
   "execution_count": null,
   "metadata": {},
   "outputs": [],
   "source": [
    "# -*- coding: utf-8 -*-\n",
    "import gettext\n",
    "locale_path = './locale/'\n",
    "# 将域APP_NAME与LOCALE_PATH目录绑定，\n",
    "# 这样gettext函数会在LOCALE_PATH目录下搜索对应语言的二进制APP_NAME.mo文件\n",
    "gettext.bindtextdomain('internation', locale_path)\n",
    "# 声明使用现在的域，可以使用多个域，便可以为同一种语言提供多套翻译，\n",
    "# 本程序只使用了一个域\n",
    "gettext.textdomain('internation')\n",
    "_ = gettext.gettext\n",
    " \n",
    "print _(\"Hello world!\")\n",
    "print _(\"Python is a good Language.\")"
   ]
  }
 ],
 "metadata": {
  "kernelspec": {
   "display_name": "Python 3",
   "language": "python",
   "name": "python3"
  },
  "language_info": {
   "codemirror_mode": {
    "name": "ipython",
    "version": 3
   },
   "file_extension": ".py",
   "mimetype": "text/x-python",
   "name": "python",
   "nbconvert_exporter": "python",
   "pygments_lexer": "ipython3",
   "version": "3.6.2"
  }
 },
 "nbformat": 4,
 "nbformat_minor": 2
}
