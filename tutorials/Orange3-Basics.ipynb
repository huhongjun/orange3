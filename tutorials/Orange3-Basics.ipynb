{
 "cells": [
  {
   "cell_type": "markdown",
   "metadata": {},
   "source": []
  },
  {
   "cell_type": "code",
   "execution_count": 1,
   "metadata": {},
   "outputs": [],
   "source": [
    "import Orange"
   ]
  },
  {
   "cell_type": "code",
   "execution_count": 3,
   "metadata": {},
   "outputs": [
    {
     "data": {
      "text/plain": [
       "(DiscreteVariable(name='age',\n",
       "                  values=['pre-presbyopic', 'presbyopic', 'young']),\n",
       " DiscreteVariable(name='prescription', values=['hypermetrope', 'myope']),\n",
       " DiscreteVariable(name='astigmatic', values=['no', 'yes']),\n",
       " DiscreteVariable(name='tear_rate', values=['normal', 'reduced']))"
      ]
     },
     "execution_count": 3,
     "metadata": {},
     "output_type": "execute_result"
    }
   ],
   "source": [
    "data = Orange.data.Table(\"lenses\")\n",
    "data.domain.attributes"
   ]
  },
  {
   "cell_type": "code",
   "execution_count": 4,
   "metadata": {},
   "outputs": [
    {
     "data": {
      "text/plain": [
       "DiscreteVariable(name='lenses', values=['hard', 'none', 'soft'])"
      ]
     },
     "execution_count": 4,
     "metadata": {},
     "output_type": "execute_result"
    }
   ],
   "source": [
    "data.domain.class_var"
   ]
  },
  {
   "cell_type": "code",
   "execution_count": 6,
   "metadata": {},
   "outputs": [
    {
     "name": "stdout",
     "output_type": "stream",
     "text": [
      "[young, myope, no, reduced | none]\n",
      "[young, myope, no, normal | soft]\n",
      "[young, myope, yes, reduced | none]\n"
     ]
    }
   ],
   "source": [
    "for d in data[:3]:\n",
    "    print(d)"
   ]
  },
  {
   "cell_type": "code",
   "execution_count": 7,
   "metadata": {},
   "outputs": [
    {
     "name": "stdout",
     "output_type": "stream",
     "text": [
      "Attributes: age, prescription, astigmatic, tear_rate\n",
      "Class: lenses\n",
      "Data instances 24\n",
      "Data instances with soft prescriptions:\n",
      "         young          myope             no         normal\n",
      "         young   hypermetrope             no         normal\n",
      "pre-presbyopic          myope             no         normal\n",
      "pre-presbyopic   hypermetrope             no         normal\n",
      "    presbyopic   hypermetrope             no         normal\n"
     ]
    }
   ],
   "source": [
    "import Orange\n",
    "data = Orange.data.Table(\"lenses\")\n",
    "print(\"Attributes:\", \", \".join(x.name for x in data.domain.attributes))\n",
    "print(\"Class:\", data.domain.class_var.name)\n",
    "print(\"Data instances\", len(data))\n",
    "\n",
    "target = \"soft\"\n",
    "print(\"Data instances with %s prescriptions:\" % target)\n",
    "atts = data.domain.attributes\n",
    "for d in data:\n",
    "    if d.get_class() == target:\n",
    "        print(\" \".join([\"%14s\" % str(d[a]) for a in atts]))"
   ]
  },
  {
   "cell_type": "code",
   "execution_count": 8,
   "metadata": {},
   "outputs": [],
   "source": [
    "data.save(\"new_data.tab\")"
   ]
  },
  {
   "cell_type": "code",
   "execution_count": 10,
   "metadata": {},
   "outputs": [
    {
     "data": {
      "text/plain": [
       "[[young, myope, no, reduced | none],\n",
       " [young, myope, no, normal | soft],\n",
       " [young, myope, yes, reduced | none],\n",
       " [young, myope, yes, normal | hard],\n",
       " [pre-presbyopic, myope, no, reduced | none],\n",
       " ...\n",
       "]"
      ]
     },
     "execution_count": 10,
     "metadata": {},
     "output_type": "execute_result"
    }
   ],
   "source": [
    "import Orange\n",
    "data = Orange.data.Table(\"lenses\")\n",
    "myope_subset = [d for d in data if d[\"prescription\"] == \"myope\"]\n",
    "new_data = Orange.data.Table(data.domain, myope_subset)\n",
    "new_data.save(\"lenses-subset.tab\")\n",
    "new_data"
   ]
  },
  {
   "cell_type": "markdown",
   "metadata": {},
   "source": [
    "### Exploration of the Data Domain\n",
    "\n",
    "Data table stores information on data instances as well as on data domain. Domain holds the names of attributes, optional classes, their types and, and if categorical, the value names. The following code:"
   ]
  },
  {
   "cell_type": "code",
   "execution_count": 11,
   "metadata": {},
   "outputs": [
    {
     "name": "stdout",
     "output_type": "stream",
     "text": [
      "25 attributes: 14 continuous, 11 discrete\n",
      "First three attributes: symboling, normalized-losses, make\n",
      "Class: price \n"
     ]
    }
   ],
   "source": [
    "import Orange\n",
    "\n",
    "data = Orange.data.Table(\"imports-85.tab\")\n",
    "n = len(data.domain.attributes)\n",
    "n_cont = sum(1 for a in data.domain.attributes if a.is_continuous)\n",
    "n_disc = sum(1 for a in data.domain.attributes if a.is_discrete)\n",
    "print(\"%d attributes: %d continuous, %d discrete\" % (n, n_cont, n_disc))\n",
    "\n",
    "print(\"First three attributes:\",\n",
    "      \", \".join(data.domain.attributes[i].name for i in range(3)))\n",
    "\n",
    "print(\"Class:\", data.domain.class_var.name)"
   ]
  },
  {
   "cell_type": "code",
   "execution_count": 12,
   "metadata": {},
   "outputs": [
    {
     "name": "stdout",
     "output_type": "stream",
     "text": [
      "First attribute: symboling\n",
      "Values of attribute 'fuel-type': diesel, gas\n"
     ]
    }
   ],
   "source": [
    "print(\"First attribute:\", data.domain[0].name)\n",
    "name = \"fuel-type\"\n",
    "print(\"Values of attribute '%s': %s\" %\n",
    "      (name, \", \".join(data.domain[name].values)))"
   ]
  },
  {
   "cell_type": "markdown",
   "metadata": {},
   "source": [
    "### Data Instances\n",
    "\n",
    "Data table stores data instances (or examples). These can be indexed or traversed as any Python list. Data instances can be considered as vectors, accessed through element index, or through feature name."
   ]
  },
  {
   "cell_type": "code",
   "execution_count": 13,
   "metadata": {},
   "outputs": [
    {
     "name": "stdout",
     "output_type": "stream",
     "text": [
      "First three data instances:\n",
      "[5.1, 3.5, 1.4, 0.2 | Iris-setosa]\n",
      "[4.9, 3.0, 1.4, 0.2 | Iris-setosa]\n",
      "[4.7, 3.2, 1.3, 0.2 | Iris-setosa]\n",
      "25-th data instance:\n",
      "[4.8, 3.4, 1.9, 0.2 | Iris-setosa]\n",
      "Value of 'sepal width' for the first instance: 3.5\n",
      "The 3rd value of the 25th data instance: 1.9\n"
     ]
    }
   ],
   "source": [
    "import Orange\n",
    "\n",
    "data = Orange.data.Table(\"iris\")\n",
    "print(\"First three data instances:\")\n",
    "for d in data[:3]:\n",
    "    print(d)\n",
    "\n",
    "print(\"25-th data instance:\")\n",
    "print(data[24])\n",
    "\n",
    "name = \"sepal width\"\n",
    "print(\"Value of '%s' for the first instance:\" % name, data[0][name])\n",
    "print(\"The 3rd value of the 25th data instance:\", data[24][2])"
   ]
  },
  {
   "cell_type": "code",
   "execution_count": 14,
   "metadata": {},
   "outputs": [
    {
     "name": "stdout",
     "output_type": "stream",
     "text": [
      "Feature         Mean\n",
      "sepal length    5.84\n",
      "sepal width     3.05\n",
      "petal length    3.76\n",
      "petal width     1.20\n"
     ]
    }
   ],
   "source": [
    "average = lambda x: sum(x)/len(x)\n",
    "\n",
    "data = Orange.data.Table(\"iris\")\n",
    "print(\"%-15s %s\" % (\"Feature\", \"Mean\"))\n",
    "for x in data.domain.attributes:\n",
    "    print(\"%-15s %.2f\" % (x.name, average([d[x] for d in data])))"
   ]
  },
  {
   "cell_type": "code",
   "execution_count": 15,
   "metadata": {},
   "outputs": [
    {
     "data": {
      "text/plain": [
       "(ContinuousVariable(name='sepal length', number_of_decimals=1),\n",
       " ContinuousVariable(name='sepal width', number_of_decimals=1),\n",
       " ContinuousVariable(name='petal length', number_of_decimals=1),\n",
       " ContinuousVariable(name='petal width', number_of_decimals=1))"
      ]
     },
     "execution_count": 15,
     "metadata": {},
     "output_type": "execute_result"
    }
   ],
   "source": [
    "data.domain.attributes"
   ]
  },
  {
   "cell_type": "code",
   "execution_count": 16,
   "metadata": {},
   "outputs": [
    {
     "data": {
      "text/plain": [
       "[[5.1, 3.5, 1.4, 0.2 | Iris-setosa],\n",
       " [4.9, 3.0, 1.4, 0.2 | Iris-setosa],\n",
       " [4.7, 3.2, 1.3, 0.2 | Iris-setosa],\n",
       " [4.6, 3.1, 1.5, 0.2 | Iris-setosa],\n",
       " [5.0, 3.6, 1.4, 0.2 | Iris-setosa],\n",
       " ...\n",
       "]"
      ]
     },
     "execution_count": 16,
     "metadata": {},
     "output_type": "execute_result"
    }
   ],
   "source": [
    "data"
   ]
  },
  {
   "cell_type": "code",
   "execution_count": 17,
   "metadata": {},
   "outputs": [
    {
     "data": {
      "text/plain": [
       "array([[5.1, 3.5, 1.4, 0.2],\n",
       "       [4.9, 3. , 1.4, 0.2],\n",
       "       [4.7, 3.2, 1.3, 0.2]])"
      ]
     },
     "execution_count": 17,
     "metadata": {},
     "output_type": "execute_result"
    }
   ],
   "source": [
    "data.X[:3]"
   ]
  },
  {
   "cell_type": "code",
   "execution_count": 18,
   "metadata": {},
   "outputs": [
    {
     "data": {
      "text/plain": [
       "array([0., 0., 0.])"
      ]
     },
     "execution_count": 18,
     "metadata": {},
     "output_type": "execute_result"
    }
   ],
   "source": [
    "data.Y[:3]"
   ]
  },
  {
   "cell_type": "code",
   "execution_count": 21,
   "metadata": {},
   "outputs": [
    {
     "data": {
      "text/plain": [
       "[[1.000, 2.000],\n",
       " [4.000, 5.000]\n",
       "]"
      ]
     },
     "execution_count": 21,
     "metadata": {},
     "output_type": "execute_result"
    }
   ],
   "source": [
    "import numpy as np\n",
    "X = np.array([[1,2],[4,5]])\n",
    "data = Orange.data.Table(X)\n",
    "data"
   ]
  },
  {
   "cell_type": "code",
   "execution_count": 22,
   "metadata": {},
   "outputs": [
    {
     "data": {
      "text/plain": [
       "[Feature 1, Feature 2]"
      ]
     },
     "execution_count": 22,
     "metadata": {},
     "output_type": "execute_result"
    }
   ],
   "source": [
    "data.domain"
   ]
  },
  {
   "cell_type": "code",
   "execution_count": 24,
   "metadata": {},
   "outputs": [
    {
     "data": {
      "text/plain": [
       "[lenght, width]"
      ]
     },
     "execution_count": 24,
     "metadata": {},
     "output_type": "execute_result"
    }
   ],
   "source": [
    "domain = Orange.data.Domain([Orange.data.ContinuousVariable(\"lenght\"),\n",
    "                                 Orange.data.ContinuousVariable(\"width\")])\n",
    "data = Orange.data.Table(domain, X)\n",
    "data.domain"
   ]
  },
  {
   "cell_type": "code",
   "execution_count": 25,
   "metadata": {},
   "outputs": [
    {
     "name": "stdout",
     "output_type": "stream",
     "text": [
      "[[big, 3.400, circle | 42.000],\n",
      " [small, 2.700, oval | 52.200],\n",
      " [big, 1.400, square | 13.400]]\n"
     ]
    }
   ],
   "source": [
    "size = Orange.data.DiscreteVariable(\"size\", [\"small\", \"big\"])\n",
    "height = Orange.data.ContinuousVariable(\"height\")\n",
    "shape = Orange.data.DiscreteVariable(\"shape\", [\"circle\", \"square\", \"oval\"])\n",
    "speed = Orange.data.ContinuousVariable(\"speed\")\n",
    "\n",
    "domain = Orange.data.Domain([size, height, shape], speed)\n",
    "\n",
    "X = np.array([[1, 3.4, 0], [0, 2.7, 2], [1, 1.4, 1]])\n",
    "Y = np.array([42.0, 52.2, 13.4])\n",
    "\n",
    "data = Orange.data.Table(domain, X, Y)\n",
    "print(data)"
   ]
  },
  {
   "cell_type": "code",
   "execution_count": null,
   "metadata": {},
   "outputs": [],
   "source": []
  }
 ],
 "metadata": {
  "kernelspec": {
   "display_name": "Python 3",
   "language": "python",
   "name": "python3"
  },
  "language_info": {
   "codemirror_mode": {
    "name": "ipython",
    "version": 3
   },
   "file_extension": ".py",
   "mimetype": "text/x-python",
   "name": "python",
   "nbconvert_exporter": "python",
   "pygments_lexer": "ipython3",
   "version": "3.6.2"
  }
 },
 "nbformat": 4,
 "nbformat_minor": 2
}
